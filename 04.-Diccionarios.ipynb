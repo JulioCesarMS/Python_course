{
  "cells": [
    {
      "cell_type": "markdown",
      "metadata": {
        "id": "view-in-github",
        "colab_type": "text"
      },
      "source": [
        "<a href=\"https://colab.research.google.com/github/JulioCesarMS/Python_course/blob/main/04.-Diccionarios.ipynb\" target=\"_parent\"><img src=\"https://colab.research.google.com/assets/colab-badge.svg\" alt=\"Open In Colab\"/></a>"
      ]
    },
    {
      "cell_type": "markdown",
      "metadata": {
        "id": "LIWVJ-dq90qB"
      },
      "source": [
        "# **Diccionario**"
      ]
    },
    {
      "cell_type": "code",
      "execution_count": null,
      "metadata": {
        "id": "mbFtREVH90qH"
      },
      "outputs": [],
      "source": [
        ""
      ]
    },
    {
      "cell_type": "markdown",
      "metadata": {
        "id": "JafNS9Lq90qJ"
      },
      "source": [
        "# Ejemplos:\n"
      ]
    },
    {
      "cell_type": "markdown",
      "metadata": {
        "id": "-cZ1-6y790qK"
      },
      "source": [
        "1.- En el punto medio de los Juegos Olímpicos de Río, Estados Unidos tenía 70 medallas, Gran Bretaña tenía 38 medallas, China tenía 45 medallas, Rusia tenía 30 medallas y Alemania tenía 17 medallas. Crea un diccionario asignado a la variable **medal_count** con los nombres de los países como claves y el número de medallas que tenía el país como valor de cada clave."
      ]
    },
    {
      "cell_type": "code",
      "execution_count": null,
      "metadata": {
        "id": "a_-fUkY890qL"
      },
      "outputs": [],
      "source": [
        "medal_count = {'United States':70,\n",
        "              'Great Britain':38,\n",
        "              'China':45,\n",
        "              'Russia':30,\n",
        "              'Germany':17}"
      ]
    },
    {
      "cell_type": "code",
      "execution_count": null,
      "metadata": {
        "id": "WXl2D4fn90qM",
        "outputId": "a0e24990-390a-4332-8435-be9390d68997"
      },
      "outputs": [
        {
          "name": "stdout",
          "output_type": "stream",
          "text": [
            "{'United States': 70, 'Great Britain': 38, 'China': 45, 'Russia': 30, 'Germany': 17}\n"
          ]
        }
      ],
      "source": [
        "print(medal_count)"
      ]
    },
    {
      "cell_type": "markdown",
      "metadata": {
        "id": "R8dyB_O590qN"
      },
      "source": [
        "2. Añade la cadena \"hockey\" como clave al diccionario sports_periods y asígnale el valor $3$. No reescribas todo el diccionario."
      ]
    },
    {
      "cell_type": "code",
      "execution_count": null,
      "metadata": {
        "id": "hNioaBEH90qO"
      },
      "outputs": [],
      "source": [
        "sports_periods = {'baseball': 9, 'basketball': 4, 'soccer': 4, 'cricket': 2}"
      ]
    },
    {
      "cell_type": "code",
      "execution_count": null,
      "metadata": {
        "id": "sM0DDi2590qP",
        "outputId": "a7bd74ae-f69e-4e1d-8dc9-1c39da6b53f4"
      },
      "outputs": [
        {
          "name": "stdout",
          "output_type": "stream",
          "text": [
            "{'baseball': 9, 'basketball': 4, 'soccer': 4, 'cricket': 2, 'hockey': 3}\n"
          ]
        }
      ],
      "source": [
        "sports_periods['hockey'] = 3\n",
        "\n",
        "print(sports_periods)"
      ]
    },
    {
      "cell_type": "markdown",
      "metadata": {
        "id": "qGOvJc8q90qQ"
      },
      "source": [
        "3. El diccionario golds contiene información sobre cuántas medallas de oro ganó cada país en los Juegos Olímpicos de $2016$. Pero hoy, España ha ganado 2 medallas de oro más. Actualiza los oros para reflejar esta información."
      ]
    },
    {
      "cell_type": "code",
      "execution_count": null,
      "metadata": {
        "id": "EuzRO9g-90qR"
      },
      "outputs": [],
      "source": [
        "golds = {\"Italy\": 12, \"USA\": 33, \"Brazil\": 15, \"China\": 27, \"Spain\": 19, \"Canada\": 22, \"Argentina\": 8, \"England\": 29}"
      ]
    },
    {
      "cell_type": "code",
      "execution_count": null,
      "metadata": {
        "id": "H9vSt2wZ90qS",
        "outputId": "eb1a6289-6568-47c5-ff0e-44bfdd73e407"
      },
      "outputs": [
        {
          "name": "stdout",
          "output_type": "stream",
          "text": [
            "{'Italy': 12, 'USA': 33, 'Brazil': 15, 'China': 27, 'Spain': 21, 'Canada': 22, 'Argentina': 8, 'England': 29}\n"
          ]
        }
      ],
      "source": [
        "# Respuesta\n",
        "golds['Spain'] = golds['Spain'] + 2 \n",
        "\n",
        "print(golds)"
      ]
    },
    {
      "cell_type": "markdown",
      "metadata": {
        "id": "7C1mtJPv90qS"
      },
      "source": [
        "4. Cree una lista de los países que están en el diccionario gold, y asigne esa lista a la variable nombre countries."
      ]
    },
    {
      "cell_type": "code",
      "execution_count": null,
      "metadata": {
        "id": "4HPlN8io90qT"
      },
      "outputs": [],
      "source": [
        "golds = {\"Italy\": 12, \"USA\": 33, \"Brazil\": 15, \"China\": 27, \"Spain\": 19, \"Canada\": 22, \"Argentina\": 8, \"England\": 29}"
      ]
    },
    {
      "cell_type": "code",
      "execution_count": null,
      "metadata": {
        "id": "KLzxOXga90qU",
        "outputId": "0a56abb8-9f9e-4e16-f4ee-d78af2c7ec37"
      },
      "outputs": [
        {
          "name": "stdout",
          "output_type": "stream",
          "text": [
            "['Italy', 'USA', 'Brazil', 'China', 'Spain', 'Canada', 'Argentina', 'England']\n"
          ]
        }
      ],
      "source": [
        "# Respuesta:\n",
        "countries = list(golds.keys())\n",
        "\n",
        "print(countries)"
      ]
    },
    {
      "cell_type": "markdown",
      "metadata": {
        "id": "EkuGfROL90qU"
      },
      "source": [
        "5.- El diccionario total_golds contiene el número total de medallas de oro que los países han ganado a lo largo de la historia. Usa la mecánica del diccionario para encontrar el número de oros que ha ganado Chile, y asigna ese número a la variable chile_golds."
      ]
    },
    {
      "cell_type": "code",
      "execution_count": null,
      "metadata": {
        "id": "X41FJYuT90qV"
      },
      "outputs": [],
      "source": [
        "total_golds = {\"Italy\": 114, \"Germany\": 782, \"Pakistan\": 10, \"Sweden\": 627, \"USA\": 2681, \"Zimbabwe\": 8, \"Greece\": 111, \"Mongolia\": 24, \"Brazil\": 108, \"Croatia\": 34, \"Algeria\": 15, \"Switzerland\": 323, \"Yugoslavia\": 87, \"China\": 526, \"Egypt\": 26, \"Norway\": 477, \"Spain\": 133, \"Australia\": 480, \"Slovakia\": 29, \"Canada\": 22, \"New Zealand\": 100, \"Denmark\": 180, \"Chile\": 13, \"Argentina\": 70, \"Thailand\": 24, \"Cuba\": 209, \"Uganda\": 7,  \"England\": 806, \"Denmark\": 180, \"Ukraine\": 122, \"Bahamas\": 12}"
      ]
    },
    {
      "cell_type": "code",
      "execution_count": null,
      "metadata": {
        "id": "VTsF7-sD90qW",
        "outputId": "5188eaf1-1c5c-48c7-f6cd-5a4fb5e5c594"
      },
      "outputs": [
        {
          "name": "stdout",
          "output_type": "stream",
          "text": [
            "13\n"
          ]
        }
      ],
      "source": [
        "# Respuesta:\n",
        "chile_golds = total_golds['Chile']\n",
        "\n",
        "print(chile_golds)"
      ]
    },
    {
      "cell_type": "markdown",
      "metadata": {
        "id": "RhjYp0eI90qW"
      },
      "source": [
        "## Acumular varios resultados en un diccionario"
      ]
    },
    {
      "cell_type": "markdown",
      "metadata": {
        "id": "JuMuNSy490qX"
      },
      "source": [
        "1.- Divide la cadena en una lista de palabras, luego crea un diccionario que contenga cada palabra y el número de veces que aparece."
      ]
    },
    {
      "cell_type": "code",
      "execution_count": null,
      "metadata": {
        "id": "VTeu2r3n90qX"
      },
      "outputs": [],
      "source": [
        "sentence = \"The dog chased the rabbit into the forest but the rabbit was too quick.\""
      ]
    },
    {
      "cell_type": "code",
      "execution_count": null,
      "metadata": {
        "id": "0Fr3mxwX90qY"
      },
      "outputs": [],
      "source": [
        "# solución\n",
        "words = sentence.split()\n",
        "word_count = {}\n",
        "for word in words:\n",
        "    if word not in word_count:\n",
        "        word_count[word] = 0\n",
        "    word_count[word] = word_count[word] + 1"
      ]
    },
    {
      "cell_type": "code",
      "execution_count": null,
      "metadata": {
        "id": "_SgQZoWA90qY",
        "outputId": "9d8f0837-7aa3-4cfe-8ffb-2b1beee83bf7"
      },
      "outputs": [
        {
          "name": "stdout",
          "output_type": "stream",
          "text": [
            "{'The': 1, 'dog': 1, 'chased': 1, 'the': 3, 'rabbit': 2, 'into': 1, 'forest': 1, 'but': 1, 'was': 1, 'too': 1, 'quick.': 1}\n"
          ]
        }
      ],
      "source": [
        "print(word_count)"
      ]
    },
    {
      "cell_type": "markdown",
      "metadata": {
        "id": "QW78zzp-90qZ"
      },
      "source": [
        "2.- El diccionario *travel* contiene el número de países dentro de cada contiente a los que Jackie ha viajado. Encuentra el número total de países en los que ha estado Jackie y guarda este número en la variable de nombre $total$."
      ]
    },
    {
      "cell_type": "code",
      "execution_count": null,
      "metadata": {
        "id": "TWdTS63i90qZ"
      },
      "outputs": [],
      "source": [
        "travel = {\"Cancún\" : 2, \"Veracruz\" : 3, \"CDMX\" : 2, \"Monterrey\" : 2, \"Tijuana\" : 1, \"Tlaxcala\" : 1, \"Puebla\" : 1, \"Guanajuato\" : 3}"
      ]
    },
    {
      "cell_type": "code",
      "execution_count": null,
      "metadata": {
        "id": "idfAsE-y90qa",
        "outputId": "8571c0af-fe10-440b-d6ea-2af1bad06c3f"
      },
      "outputs": [
        {
          "name": "stdout",
          "output_type": "stream",
          "text": [
            "Número total de ciudades: 15\n"
          ]
        }
      ],
      "source": [
        "# Solución\n",
        "total = 0\n",
        "for city in travel:\n",
        "    total = total + travel[city]\n",
        "\n",
        "print(\"Número total de ciudades: {}\".format(total))    "
      ]
    },
    {
      "cell_type": "markdown",
      "metadata": {
        "id": "74UhSHWE90qa"
      },
      "source": [
        "3.- Crea un diccionario llamado $d$ que lleve la cuenta de todos los caracteres de la cadena $placement$ y determine cuántas veces se ha visto cada carácter. A continuación, encuentra la clave con el valor más bajo en este diccionario y asigna esa clave a *min_value*.  "
      ]
    },
    {
      "cell_type": "code",
      "execution_count": null,
      "metadata": {
        "id": "TljpgWp090qb"
      },
      "outputs": [],
      "source": [
        "placement = \"Beaches are cool places to visit in spring however the Mackinaw Bridge is near. Most people visit Mackinaw later:\""
      ]
    },
    {
      "cell_type": "code",
      "execution_count": null,
      "metadata": {
        "id": "XIZlmPgt90qb",
        "outputId": "e0d5d8a7-42bd-4583-9622-d6cdebc62ee4"
      },
      "outputs": [
        {
          "name": "stdout",
          "output_type": "stream",
          "text": [
            "{'B': 2, 'e': 12, 'a': 9, 'c': 5, 'h': 3, 's': 7, ' ': 18, 'r': 6, 'o': 6, 'l': 4, 'p': 4, 't': 6, 'v': 3, 'i': 10, 'n': 5, 'g': 2, 'w': 3, 'M': 3, 'k': 2, 'd': 1, '.': 1, ':': 1}\n"
          ]
        }
      ],
      "source": [
        "# Solución\n",
        "d = {}\n",
        "for char in placement:\n",
        "    if char not in d:\n",
        "        d[char] = 0\n",
        "    d[char] = d[char] + 1\n",
        "    \n",
        "print(d)"
      ]
    },
    {
      "cell_type": "code",
      "execution_count": null,
      "metadata": {
        "id": "63QGjrw-90qc",
        "outputId": "765914d5-cca3-45d6-c29e-8837ad3c6576"
      },
      "outputs": [
        {
          "name": "stdout",
          "output_type": "stream",
          "text": [
            "d\n"
          ]
        }
      ],
      "source": [
        "# min_value\n",
        "keys = list(d.keys())\n",
        "min_value = keys[0]\n",
        "for key in keys:\n",
        "    if d[key] < d[min_value]:\n",
        "        min_value = key\n",
        "\n",
        "print(min_value)"
      ]
    },
    {
      "cell_type": "markdown",
      "metadata": {
        "id": "rLM7CRRS90qc"
      },
      "source": [
        "## Extras:"
      ]
    },
    {
      "cell_type": "markdown",
      "metadata": {
        "id": "s0IQ3uAB90qc"
      },
      "source": [
        "1.- El diccionario Junior muestra el horario de un semestre de tercer año. La clave es el nombre del curso y el valor es el número de créditos. Encuentre el número total de créditos cursados este semestre y asígnelo a la variable créditos. ¡utilice la acumulación del diccionario!"
      ]
    },
    {
      "cell_type": "code",
      "execution_count": null,
      "metadata": {
        "id": "Sdxxt5DI90qd"
      },
      "outputs": [],
      "source": [
        "Junior = {'SI 206':4, 'SI 310':4, 'BL 300':3, 'TO 313':3, 'BCOM 350':1, 'MO 300':3}"
      ]
    },
    {
      "cell_type": "code",
      "execution_count": null,
      "metadata": {
        "colab": {
          "base_uri": "https://localhost:8080/"
        },
        "id": "FOpom55S90qd",
        "outputId": "584e2112-8eed-4521-9993-2387a9b2a213"
      },
      "outputs": [
        {
          "output_type": "stream",
          "name": "stdout",
          "text": [
            "18\n"
          ]
        }
      ],
      "source": [
        "# Solución:\n",
        "credits = 0\n",
        "for value in Junior:\n",
        "    credits = credits + Junior[value]\n",
        "    \n",
        "print(credits)"
      ]
    },
    {
      "cell_type": "markdown",
      "metadata": {
        "id": "S6QdIl1X90qd"
      },
      "source": [
        "2.- Crear un diccionario, freq, que muestre cada carácter de la cadena str1 como clave y su frecuencia como valor."
      ]
    },
    {
      "cell_type": "code",
      "execution_count": null,
      "metadata": {
        "id": "k8c-9Nqx90qe"
      },
      "outputs": [],
      "source": [
        "str1 = \"peter piper picked a peck of pickled peppers\""
      ]
    },
    {
      "cell_type": "code",
      "execution_count": null,
      "metadata": {
        "colab": {
          "base_uri": "https://localhost:8080/"
        },
        "id": "yFEM61L690qe",
        "outputId": "cafb420b-ed3b-498d-bfa1-7b5f79617c16"
      },
      "outputs": [
        {
          "output_type": "stream",
          "name": "stdout",
          "text": [
            "{'p': 9, 'e': 8, 't': 1, 'r': 3, ' ': 7, 'i': 3, 'c': 3, 'k': 3, 'd': 2, 'a': 1, 'o': 1, 'f': 1, 'l': 1, 's': 1}\n"
          ]
        }
      ],
      "source": [
        "# Solución\n",
        "freq = {}\n",
        "for char in str1:\n",
        "    if char not in freq:\n",
        "        freq[char] = 0\n",
        "    freq[char] = freq[char] + 1\n",
        "\n",
        "print(freq)"
      ]
    },
    {
      "cell_type": "markdown",
      "metadata": {
        "id": "gJ0GjAj-90qe"
      },
      "source": [
        "3.- Se proporciona una cadena guardada en la variable de nombre s1. Crea un diccionario llamado *counts* que contenga cada letra de s1 y el número de veces que aparece."
      ]
    },
    {
      "cell_type": "code",
      "execution_count": null,
      "metadata": {
        "id": "4VB4LBHq90qf"
      },
      "outputs": [],
      "source": [
        "s1 = \"hello\""
      ]
    },
    {
      "cell_type": "code",
      "execution_count": null,
      "metadata": {
        "colab": {
          "base_uri": "https://localhost:8080/"
        },
        "id": "OdDyi7L290qf",
        "outputId": "0f223265-2a40-4319-b4de-ab0f5122d750"
      },
      "outputs": [
        {
          "output_type": "stream",
          "name": "stdout",
          "text": [
            "{'h': 1, 'e': 1, 'l': 2, 'o': 1}\n"
          ]
        }
      ],
      "source": [
        "# Solución:\n",
        "counts = {}\n",
        "for char in s1:\n",
        "    if char not in counts:\n",
        "        counts[char] = 0\n",
        "    counts[char] = counts[char] + 1\n",
        "\n",
        "print(counts)"
      ]
    },
    {
      "cell_type": "markdown",
      "metadata": {
        "id": "8_TQSGK190qf"
      },
      "source": [
        "4.- Crear un diccionario, freq_words, que contenga cada palabra de la cadena str1 como clave y su frecuencia como valor."
      ]
    },
    {
      "cell_type": "code",
      "execution_count": null,
      "metadata": {
        "id": "_0vt59-B90qf"
      },
      "outputs": [],
      "source": [
        "str1 = \"I wish I wish with all my heart to fly with dragons in a land apart\""
      ]
    },
    {
      "cell_type": "code",
      "execution_count": null,
      "metadata": {
        "colab": {
          "base_uri": "https://localhost:8080/"
        },
        "id": "2zUVuUDf90qg",
        "outputId": "e9647c67-6bba-45a2-b0de-dfc58af781b9"
      },
      "outputs": [
        {
          "output_type": "stream",
          "name": "stdout",
          "text": [
            "{'I': 2, 'wish': 2, 'with': 2, 'all': 1, 'my': 1, 'heart': 1, 'to': 1, 'fly': 1, 'dragons': 1, 'in': 1, 'a': 1, 'land': 1, 'apart': 1}\n"
          ]
        }
      ],
      "source": [
        "freq_words = {}\n",
        "for word in str1.split():\n",
        "    if word not in freq_words:\n",
        "        freq_words[word] = 0\n",
        "    freq_words[word] = freq_words[word] + 1\n",
        "\n",
        "print(freq_words)"
      ]
    },
    {
      "cell_type": "markdown",
      "metadata": {
        "id": "tNFvjuRM90qg"
      },
      "source": [
        "5.- Crea un diccionario llamado wrd_d a partir de la cadena *sent*, de forma que la clave sea una palabra y el valor sea cuántas veces has visto esa palabra."
      ]
    },
    {
      "cell_type": "code",
      "execution_count": null,
      "metadata": {
        "id": "qdKEVSEz90qg"
      },
      "outputs": [],
      "source": [
        "sent = \"Singing in the rain and playing in the rain are two entirely different situations but both can be good\""
      ]
    },
    {
      "cell_type": "code",
      "execution_count": null,
      "metadata": {
        "colab": {
          "base_uri": "https://localhost:8080/"
        },
        "id": "oq1RVoAJ90qh",
        "outputId": "bc1c8b91-4c21-41a7-e4b9-89c5666df0b0"
      },
      "outputs": [
        {
          "output_type": "stream",
          "name": "stdout",
          "text": [
            "{'Singing': 1, 'in': 2, 'the': 2, 'rain': 2, 'and': 1, 'playing': 1, 'are': 1, 'two': 1, 'entirely': 1, 'different': 1, 'situations': 1, 'but': 1, 'both': 1, 'can': 1, 'be': 1, 'good': 1}\n"
          ]
        }
      ],
      "source": [
        "wrd_d = {}\n",
        "for word in sent.split():\n",
        "    if word not in wrd_d:\n",
        "        wrd_d[word] = 0\n",
        "    wrd_d[word] = wrd_d[word] + 1\n",
        "\n",
        "print(wrd_d)"
      ]
    },
    {
      "cell_type": "markdown",
      "metadata": {
        "id": "ipPgVVXN90qh"
      },
      "source": [
        "6.- Crea el diccionario de caracteres que muestra cada carácter de la cadena sally y su frecuencia. A continuación, encuentra la letra más frecuente en base al diccionario. Asigna esta letra a la variable best_char."
      ]
    },
    {
      "cell_type": "code",
      "execution_count": null,
      "metadata": {
        "id": "7I4BtJJF90qh"
      },
      "outputs": [],
      "source": [
        "sally = \"sally sells sea shells by the sea shore\""
      ]
    },
    {
      "cell_type": "code",
      "execution_count": null,
      "metadata": {
        "colab": {
          "base_uri": "https://localhost:8080/"
        },
        "id": "sE6gP5rZ90qh",
        "outputId": "a85d5d08-7863-47de-bfac-fb90991c4157"
      },
      "outputs": [
        {
          "output_type": "stream",
          "name": "stdout",
          "text": [
            "{'s': 8, 'a': 3, 'l': 6, 'y': 2, ' ': 7, 'e': 6, 'h': 3, 'b': 1, 't': 1, 'o': 1, 'r': 1}\n"
          ]
        }
      ],
      "source": [
        "# Primera parte\n",
        "characters = {}\n",
        "for char in sally:\n",
        "    if char not in characters:\n",
        "        characters[char] = 0\n",
        "    characters[char] = characters[char] + 1\n",
        "print(characters)"
      ]
    },
    {
      "cell_type": "code",
      "execution_count": null,
      "metadata": {
        "colab": {
          "base_uri": "https://localhost:8080/"
        },
        "id": "SQyZKgvL90qi",
        "outputId": "cea04d25-f8fd-4915-a8fb-5f8f6a2b5722"
      },
      "outputs": [
        {
          "output_type": "stream",
          "name": "stdout",
          "text": [
            "s\n"
          ]
        }
      ],
      "source": [
        "# second part : best_char\n",
        "keys = list(characters.keys())\n",
        "best_char = keys[0] \n",
        "for key in keys:\n",
        "    if characters[key] > characters[best_char]:\n",
        "        best_char = key\n",
        "print(best_char)"
      ]
    },
    {
      "cell_type": "markdown",
      "metadata": {
        "id": "i8jUs6Mp90qi"
      },
      "source": [
        "7.- Encuentra la letra menos frecuente. Crea el diccionario caracteres que muestra cada carácter de la cadena sally y su frecuencia. Luego, encuentra la letra menos frecuente de la cadena y asigna la letra a la variable worst_char."
      ]
    },
    {
      "cell_type": "code",
      "execution_count": null,
      "metadata": {
        "id": "AVwi6tPB90qi"
      },
      "outputs": [],
      "source": [
        "sally = \"sally sells sea shells by the sea shore and by the road\""
      ]
    },
    {
      "cell_type": "code",
      "execution_count": null,
      "metadata": {
        "colab": {
          "base_uri": "https://localhost:8080/"
        },
        "id": "CrooD22N90qi",
        "outputId": "0fef0fc1-e97a-4457-9b9b-3884a325bdf4"
      },
      "outputs": [
        {
          "output_type": "stream",
          "name": "stdout",
          "text": [
            "{'s': 8, 'a': 5, 'l': 6, 'y': 3, ' ': 11, 'e': 7, 'h': 4, 'b': 2, 't': 2, 'o': 2, 'r': 2, 'n': 1, 'd': 2}\n"
          ]
        }
      ],
      "source": [
        "# Solución:\n",
        "# first part: the ferquency\n",
        "characters = {}\n",
        "for char in sally:\n",
        "    if char not in characters:\n",
        "        characters[char] = 0\n",
        "    characters[char] = characters[char] + 1\n",
        "print(characters)"
      ]
    },
    {
      "cell_type": "code",
      "execution_count": null,
      "metadata": {
        "colab": {
          "base_uri": "https://localhost:8080/"
        },
        "id": "gQwjWuRP90qj",
        "outputId": "19c14d49-1598-420a-ea64-696e55a3fafb"
      },
      "outputs": [
        {
          "output_type": "stream",
          "name": "stdout",
          "text": [
            "n\n"
          ]
        }
      ],
      "source": [
        "# second part : best_char\n",
        "keys = list(characters.keys())\n",
        "worst_char = keys[0] \n",
        "for key in keys:\n",
        "    if characters[key] < characters[worst_char]:\n",
        "        worst_char = key\n",
        "print(worst_char)"
      ]
    },
    {
      "cell_type": "markdown",
      "metadata": {
        "id": "h58rlu9690qj"
      },
      "source": [
        "8.- Crea un diccionario llamado letter_counts que contenga cada letra y el número de veces que aparece en la string1. Reto: Las letras no deben contarse por separado como mayúsculas y minúsculas. En cambio, todas deben contarse como minúsculas."
      ]
    },
    {
      "cell_type": "code",
      "execution_count": null,
      "metadata": {
        "id": "s-1EJSBH90qj"
      },
      "outputs": [],
      "source": [
        "string1 = \"There is a tide in the affairs of men, Which taken at the flood, leads on to fortune. Omitted, all the voyage of their life is bound in shallows and in miseries. On such a full sea are we now afloat. And we must take the current when it serves, or lose our ventures.\""
      ]
    },
    {
      "cell_type": "code",
      "execution_count": null,
      "metadata": {
        "colab": {
          "base_uri": "https://localhost:8080/"
        },
        "id": "QPTfRHmx90qk",
        "outputId": "1a8b079a-e88a-41c9-b831-7b1948c0d784"
      },
      "outputs": [
        {
          "output_type": "stream",
          "name": "stdout",
          "text": [
            "{'t': 19, 'h': 11, 'e': 29, 'r': 12, ' ': 53, 'i': 14, 's': 15, 'a': 17, 'd': 7, 'n': 15, 'f': 9, 'o': 17, 'm': 4, ',': 4, 'w': 6, 'c': 3, 'k': 2, 'l': 11, 'u': 8, '.': 4, 'v': 3, 'y': 1, 'g': 1, 'b': 1}\n"
          ]
        }
      ],
      "source": [
        "# fist part : \n",
        "letter_counts = {}\n",
        "for letter in string1.lower():\n",
        "    if letter not in letter_counts:\n",
        "        letter_counts[letter] = 0\n",
        "    letter_counts[letter] = letter_counts[letter] + 1\n",
        "print(letter_counts)"
      ]
    },
    {
      "cell_type": "markdown",
      "metadata": {
        "id": "zliNFBd790qk"
      },
      "source": [
        "9.- Crea un diccionario llamado low_d que lleve la cuenta de todos los caracteres de la cadena p y anote cuántas veces se ha visto cada carácter. Asegúrate de que no haya repeticiones de caracteres como claves, de forma que \"T\" y \"t\" se vean ambas como una \"t\"."
      ]
    },
    {
      "cell_type": "code",
      "execution_count": null,
      "metadata": {
        "id": "VHaCdJI390qk"
      },
      "outputs": [],
      "source": [
        "p = \"Summer is a great time to go outside. You have to be careful of the sun though because of the heat.\""
      ]
    },
    {
      "cell_type": "code",
      "execution_count": null,
      "metadata": {
        "colab": {
          "base_uri": "https://localhost:8080/"
        },
        "id": "g1grbEbs90ql",
        "outputId": "45dfc283-ab7c-43bb-a4f9-c1bf8d4aec3b"
      },
      "outputs": [
        {
          "output_type": "stream",
          "name": "stdout",
          "text": [
            "{'s': 5, 'u': 7, 'm': 3, 'e': 12, 'r': 3, ' ': 20, 'i': 3, 'a': 6, 'g': 3, 't': 9, 'o': 8, 'd': 1, '.': 2, 'y': 1, 'h': 6, 'v': 1, 'b': 2, 'c': 2, 'f': 3, 'l': 1, 'n': 1}\n"
          ]
        }
      ],
      "source": [
        "# Solución:\n",
        "low_d = {}\n",
        "for char in p.lower():\n",
        "    if char not in low_d:\n",
        "        low_d[char] = 0\n",
        "    low_d[char] = low_d[char] + 1\n",
        "print(low_d)"
      ]
    }
  ],
  "metadata": {
    "interpreter": {
      "hash": "28f429ac0c97e7f29d5b7283f4db1ef689a9fece3c40f414e7912139c5a2bf91"
    },
    "kernelspec": {
      "display_name": "Python 3.9.4 64-bit",
      "language": "python",
      "name": "python3"
    },
    "language_info": {
      "codemirror_mode": {
        "name": "ipython",
        "version": 3
      },
      "file_extension": ".py",
      "mimetype": "text/x-python",
      "name": "python",
      "nbconvert_exporter": "python",
      "pygments_lexer": "ipython3",
      "version": "3.9.4"
    },
    "orig_nbformat": 4,
    "colab": {
      "name": "4.- Diccionarios.ipynb",
      "provenance": [],
      "collapsed_sections": [],
      "include_colab_link": true
    }
  },
  "nbformat": 4,
  "nbformat_minor": 0
}
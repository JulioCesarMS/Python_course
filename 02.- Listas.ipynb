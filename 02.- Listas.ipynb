{
  "nbformat": 4,
  "nbformat_minor": 0,
  "metadata": {
    "colab": {
      "name": "2.- Listas.ipynb",
      "provenance": [],
      "authorship_tag": "ABX9TyPTYnY+aRH1ROt4xdQMrgsd",
      "include_colab_link": true
    },
    "kernelspec": {
      "name": "python3",
      "display_name": "Python 3"
    },
    "language_info": {
      "name": "python"
    }
  },
  "cells": [
    {
      "cell_type": "markdown",
      "metadata": {
        "id": "view-in-github",
        "colab_type": "text"
      },
      "source": [
        "<a href=\"https://colab.research.google.com/github/JulioCesarMS/Python_course/blob/main/02.-%20Listas.ipynb\" target=\"_parent\"><img src=\"https://colab.research.google.com/assets/colab-badge.svg\" alt=\"Open In Colab\"/></a>"
      ]
    },
    {
      "cell_type": "markdown",
      "source": [
        "## **Colecciones de Python**\n",
        "\n",
        "Hay cuatro tipos de datos de colección en el lenguaje de programación Python:\n",
        "\n",
        "1.- Lista es una colección que está ordenada y es modificable. Permite duplicar\n",
        "miembros.\n",
        "\n",
        "2.- Tupla es una colección que está ordenada y es inmodificable. Permite miembros duplicados.\n",
        "\n",
        "3.- Conjunto es una colección que no está ordenada ni indexada. No admite miembros duplicados. miembros duplicados.\n",
        "\n",
        "4.- Diccionario es una colección que está ordenada* y es modificable. No hay miembros duplicados."
      ],
      "metadata": {
        "id": "fMUCEJc-sxrR"
      }
    },
    {
      "cell_type": "markdown",
      "source": [
        "# **Listas**"
      ],
      "metadata": {
        "id": "arFozlGlN7QI"
      }
    },
    {
      "cell_type": "markdown",
      "source": [
        "Las listas se utilizan para almacenar múltiples elementos en una sola variable.\n",
        "Las listas son uno de los $4$ tipos de datos incorporados en Python que se utilizan para almacenar colecciones de datos, los otros $3$ son Tuplas, Conjuntos y Diccionario, todos con diferentes cualidades y uso.\n",
        "\n",
        "Las listas se crean utilizando corchetes:\n",
        "\n",
        "**Ejemplo:**\n",
        "\n",
        "Crear una lista:\n",
        "\n",
        "mylist = [\"manzana\", \"plátano\", \"cereza\"]\n",
        "\n",
        "**Elementos de la lista**\n",
        "\n",
        "Los elementos de la lista están ordenados, son modificables y permiten valores duplicados. Los elementos de la lista están indexados, el primer elemento tiene índice $[0]$, el segundo elemento tiene índice $[1]$, etc.\n",
        "\n",
        "**Ordenado**\n",
        "\n",
        "Cuando decimos que las listas están ordenadas, significa que los elementos tienen un orden definido, y ese orden no cambiará. Si añades nuevos elementos a una lista, los nuevos elementos se colocarán al final de la lista.\n",
        "Nota: Hay algunos métodos de lista que cambiarán el orden, pero en general: el orden de los elementos no cambiará.\n",
        "\n",
        "**Modificable**\n",
        "\n",
        "La lista es modificable, lo que significa que podemos cambiar, añadir y eliminar elementos en una lista después de haberla creado.\n",
        "\n",
        "**Permitir duplicados**\n",
        "\n",
        "Como las listas están indexadas, las listas pueden tener elementos con el mismo valor:\n",
        "\n",
        "Ejemplo:\n",
        "\n",
        "Las listas permiten valores duplicados:\n"
      ],
      "metadata": {
        "id": "wBV0SEg_fYG_"
      }
    },
    {
      "cell_type": "code",
      "source": [
        "mylist = [\"manzana\", \"plátano\", \"cereza\", \"manzana\", \"cereza\"]\n",
        "print(mylist)"
      ],
      "metadata": {
        "id": "NQyV2sjhf8MZ"
      },
      "execution_count": null,
      "outputs": []
    },
    {
      "cell_type": "markdown",
      "source": [
        "## **Longitud de la lista**\n",
        "\n",
        "Para determinar cuántos elementos tiene una lista, utilice la función len():\n",
        "\n",
        "Ejemplo\n"
      ],
      "metadata": {
        "id": "sxoP5gdjhWp1"
      }
    },
    {
      "cell_type": "code",
      "source": [
        "# Imprime el número de elementos de la lista:\n",
        "mylist = [\"manzana\", \"plátano\", \"cereza\"]\n",
        "print(len(mylist))\n"
      ],
      "metadata": {
        "colab": {
          "base_uri": "https://localhost:8080/"
        },
        "id": "U_3fK9HHhV17",
        "outputId": "7a0a1856-543d-405e-efa7-1ee2b2a91b30"
      },
      "execution_count": 2,
      "outputs": [
        {
          "output_type": "stream",
          "name": "stdout",
          "text": [
            "3\n"
          ]
        }
      ]
    },
    {
      "cell_type": "markdown",
      "source": [
        "## **Elementos de la lista - Tipos de datos**\n",
        "\n",
        "Los elementos de la lista pueden ser de cualquier tipo de datos:\n",
        "\n",
        "Ejemplo:"
      ],
      "metadata": {
        "id": "UJxbUpRDhs1O"
      }
    },
    {
      "cell_type": "code",
      "source": [
        "# Tipos de datos string, int y boolean:\n",
        "list1 = [\"manzana\", \"plátano\", \"cereza\"]\n",
        "list2 = [1, 5, 7, 9, 3]\n",
        "list3 = [True, False, False]"
      ],
      "metadata": {
        "id": "ZwaF2uVGh4qK"
      },
      "execution_count": 3,
      "outputs": []
    },
    {
      "cell_type": "markdown",
      "source": [
        "## **type()**\n",
        "\n",
        "Desde la perspectiva de Python, las listas se definen como objetos con el tipo de datos 'list':"
      ],
      "metadata": {
        "id": "EMnhnVcFiEuu"
      }
    },
    {
      "cell_type": "code",
      "source": [
        "mylist = [\"apple\", \"banana\", \"cherry\"]\n",
        "print(type(mylist))"
      ],
      "metadata": {
        "colab": {
          "base_uri": "https://localhost:8080/"
        },
        "id": "lJC6NgkHh_Kb",
        "outputId": "339e9f5b-5a80-4088-943c-3445fb519eca"
      },
      "execution_count": 4,
      "outputs": [
        {
          "output_type": "stream",
          "name": "stdout",
          "text": [
            "<class 'list'>\n"
          ]
        }
      ]
    },
    {
      "cell_type": "markdown",
      "source": [
        "## **El constructor list()**\n",
        "\n",
        "También es posible utilizar el constructor list() al crear una nueva lista."
      ],
      "metadata": {
        "id": "z3-uvaofiTEo"
      }
    },
    {
      "cell_type": "code",
      "source": [
        "mylist = list((\"apple\", \"banana\", \"cherry\"))\n",
        "mylist"
      ],
      "metadata": {
        "colab": {
          "base_uri": "https://localhost:8080/"
        },
        "id": "akd5aURZifcK",
        "outputId": "94042fa9-a73f-4806-ee01-13ecb11180f8"
      },
      "execution_count": 5,
      "outputs": [
        {
          "output_type": "execute_result",
          "data": {
            "text/plain": [
              "['apple', 'banana', 'cherry']"
            ]
          },
          "metadata": {},
          "execution_count": 5
        }
      ]
    },
    {
      "cell_type": "markdown",
      "source": [
        "## **Acceso a elementos de la lista**\n",
        "\n",
        "Los elementos de la lista están indexados y se puede acceder a ellos haciendo referencia al índice número de índice:\n",
        "\n",
        "Ejemplo:"
      ],
      "metadata": {
        "id": "OaL6fuZBz-KR"
      }
    },
    {
      "cell_type": "code",
      "source": [
        "# imprime el segundo elemento de la lista\n",
        "mylist = [\"apple\", \"banana\", \"cherry\"]\n",
        "print(mylist[1])"
      ],
      "metadata": {
        "colab": {
          "base_uri": "https://localhost:8080/"
        },
        "id": "Q9PwDoDYilgT",
        "outputId": "846396a4-19b2-4d6b-bd85-e1d164a7a343"
      },
      "execution_count": 6,
      "outputs": [
        {
          "output_type": "stream",
          "name": "stdout",
          "text": [
            "banana\n"
          ]
        }
      ]
    },
    {
      "cell_type": "markdown",
      "source": [
        "**Nota**: El primer elemento tiene índice 0."
      ],
      "metadata": {
        "id": "NhRROOdX0Q4B"
      }
    },
    {
      "cell_type": "markdown",
      "source": [
        "**Indexación negativa**\n",
        "\n",
        "La indexación negativa significa empezar por el final.\n",
        "\n",
        "-1 se refiere al último elemento, -2 se refiere al penúltimo elemento, etc.\n",
        "\n",
        "Ejemplo:\n",
        "\n",
        "Imprimir el último elemento de la lista:"
      ],
      "metadata": {
        "id": "eOyymbjW0aZS"
      }
    },
    {
      "cell_type": "code",
      "source": [
        "mylist = [\"apple\", \"banana\", \"cherry\"]\n",
        "print(mylist[-1])"
      ],
      "metadata": {
        "id": "5oHOj0xM0w3g",
        "outputId": "ef4eeea8-2f07-41d9-82d4-dc9b332dfdc9",
        "colab": {
          "base_uri": "https://localhost:8080/"
        }
      },
      "execution_count": 7,
      "outputs": [
        {
          "output_type": "stream",
          "name": "stdout",
          "text": [
            "cherry\n"
          ]
        }
      ]
    },
    {
      "cell_type": "markdown",
      "source": [
        "**Rango de índices**\n",
        "\n",
        "Puede especificar un rango de índices especificando dónde empezar y dónde el rango.\n",
        "\n",
        "Cuando se especifica un rango, el valor de retorno será una nueva lista con los especificados.\n",
        "\n",
        "**Ejemplo:**\n",
        "\n",
        "Devuelve el tercer, cuarto y quinto elemento:"
      ],
      "metadata": {
        "id": "6-Hf0Jsi1Hes"
      }
    },
    {
      "cell_type": "code",
      "source": [
        "mylist = [\"apple\", \"banana\", \"cherry\", \"orange\", \"kiwi\", \"melon\", \"mango\"]\n",
        "print(mylist[2:5])"
      ],
      "metadata": {
        "id": "81DNWqKj0Njv",
        "outputId": "52d0e147-3904-400f-9d46-ab5697c0edb6",
        "colab": {
          "base_uri": "https://localhost:8080/"
        }
      },
      "execution_count": 10,
      "outputs": [
        {
          "output_type": "stream",
          "name": "stdout",
          "text": [
            "['cherry', 'orange', 'kiwi']\n"
          ]
        }
      ]
    },
    {
      "cell_type": "markdown",
      "source": [
        "**Nota**: La búsqueda comenzará en el índice 2 (incluido) y terminará en el índice 5 (no incluido).\n",
        "\n",
        "Recuerde que el primer elemento tiene el índice 0.\n",
        "\n",
        "Al omitir el valor de inicio, el rango comenzará en el primer elemento:\n",
        "\n",
        "**Ejemplo:**\n",
        "\n",
        "Este ejemplo devuelve los elementos desde el principio hasta \"kiwi\", pero sin incluirlo:"
      ],
      "metadata": {
        "id": "p9eSP-dy5Vmx"
      }
    },
    {
      "cell_type": "code",
      "source": [
        "mylist = [\"apple\", \"banana\", \"cherry\", \"orange\", \"kiwi\", \"melon\",\n",
        "\"mango\"]\n",
        "print(mylist[:4])"
      ],
      "metadata": {
        "id": "4Hc5VTsL1RQ_",
        "outputId": "b199d0b5-0f45-4330-c5ae-c197941f7de6",
        "colab": {
          "base_uri": "https://localhost:8080/"
        }
      },
      "execution_count": 11,
      "outputs": [
        {
          "output_type": "stream",
          "name": "stdout",
          "text": [
            "['apple', 'banana', 'cherry', 'orange']\n"
          ]
        }
      ]
    },
    {
      "cell_type": "markdown",
      "source": [
        "Al omitir el valor final, el rango llegará hasta el final de la lista:\n",
        "\n",
        "**Ejemplo:**\n",
        "\n",
        "Este ejemplo devuelve los elementos desde \"cherry\" hasta el final:"
      ],
      "metadata": {
        "id": "TPQ0qMXs51S5"
      }
    },
    {
      "cell_type": "code",
      "source": [
        "mylist = [\"apple\", \"banana\", \"cherry\", \"orange\", \"kiwi\", \"melon\",\n",
        "\"mango\"]\n",
        "print(mylist[2:])"
      ],
      "metadata": {
        "id": "S5U9z5yu5vg6",
        "outputId": "8119dd4e-c90f-4596-cb23-a5d3ce6d1c81",
        "colab": {
          "base_uri": "https://localhost:8080/"
        }
      },
      "execution_count": 12,
      "outputs": [
        {
          "output_type": "stream",
          "name": "stdout",
          "text": [
            "['cherry', 'orange', 'kiwi', 'melon', 'mango']\n"
          ]
        }
      ]
    },
    {
      "cell_type": "markdown",
      "source": [
        "**Rango de índices negativos**\n",
        "\n",
        "Especifique los índices negativos si desea iniciar la búsqueda desde el final de la lista:\n",
        "\n",
        "**Ejemplo:**\n",
        "\n",
        "Este ejemplo devuelve los elementos desde \"naranja\" (-4) hasta, pero sin incluir \"mango\" (-1):"
      ],
      "metadata": {
        "id": "a7QDzD716BuW"
      }
    },
    {
      "cell_type": "code",
      "source": [
        "mylist = [\"apple\", \"banana\", \"cherry\", \"orange\", \"kiwi\", \"melon\", \"mango\"]\n",
        "print(mylist[-4:-1])"
      ],
      "metadata": {
        "id": "j9t2en_Y59iD",
        "outputId": "6ae6937b-a97e-4d00-b6b8-215a633ea5f7",
        "colab": {
          "base_uri": "https://localhost:8080/"
        }
      },
      "execution_count": 13,
      "outputs": [
        {
          "output_type": "stream",
          "name": "stdout",
          "text": [
            "['orange', 'kiwi', 'melon']\n"
          ]
        }
      ]
    },
    {
      "cell_type": "markdown",
      "source": [
        "**Comprobar si un elemento existe**\n",
        "\n",
        "Para determinar si un elemento especificado está presente en una lista, utilice la palabra clave in:\n",
        "\n",
        "**Ejemplo:**\n",
        "\n",
        "Comprobar si \"manzana\" está presente en la lista:"
      ],
      "metadata": {
        "id": "YBxaQr7W62Vj"
      }
    },
    {
      "cell_type": "code",
      "source": [
        "mylist = [\"apple\", \"banana\", \"cherry\"]\n",
        "\n",
        "if \"apple\" in mylist:\n",
        "  print(\"Yes, 'apple' is in the fruits list\")"
      ],
      "metadata": {
        "id": "LLFzuTWr6_Ei",
        "outputId": "d83b2ec9-2703-44fa-d96b-9ff1a6f0f33c",
        "colab": {
          "base_uri": "https://localhost:8080/"
        }
      },
      "execution_count": 15,
      "outputs": [
        {
          "output_type": "stream",
          "name": "stdout",
          "text": [
            "Yes, 'apple' is in the fruits list\n"
          ]
        }
      ]
    },
    {
      "cell_type": "code",
      "source": [
        ""
      ],
      "metadata": {
        "id": "SgAJqaHI7Nzb"
      },
      "execution_count": null,
      "outputs": []
    }
  ]
}
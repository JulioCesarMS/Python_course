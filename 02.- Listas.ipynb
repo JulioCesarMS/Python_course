{
  "nbformat": 4,
  "nbformat_minor": 0,
  "metadata": {
    "colab": {
      "name": "2.- Listas.ipynb",
      "provenance": [],
      "authorship_tag": "ABX9TyNgo+dJpy7rXAWaRAy0DFky",
      "include_colab_link": true
    },
    "kernelspec": {
      "name": "python3",
      "display_name": "Python 3"
    },
    "language_info": {
      "name": "python"
    }
  },
  "cells": [
    {
      "cell_type": "markdown",
      "metadata": {
        "id": "view-in-github",
        "colab_type": "text"
      },
      "source": [
        "<a href=\"https://colab.research.google.com/github/JulioCesarMS/Python_course/blob/main/02.-%20Listas.ipynb\" target=\"_parent\"><img src=\"https://colab.research.google.com/assets/colab-badge.svg\" alt=\"Open In Colab\"/></a>"
      ]
    },
    {
      "cell_type": "markdown",
      "source": [
        "# **Listas**"
      ],
      "metadata": {
        "id": "arFozlGlN7QI"
      }
    },
    {
      "cell_type": "markdown",
      "source": [
        "Las listas se utilizan para almacenar múltiples elementos en una sola variable.\n",
        "Las listas son uno de los $4$ tipos de datos incorporados en Python que se utilizan para almacenar colecciones de datos, los otros $3$ son Tuplas, Conjuntos y Diccionario, todos con diferentes cualidades y uso.\n",
        "\n",
        "Las listas se crean utilizando corchetes:\n",
        "\n",
        "**Ejemplo:**\n",
        "\n",
        "Crear una lista:\n",
        "\n",
        "mylist = [\"manzana\", \"plátano\", \"cereza\"]\n",
        "\n",
        "**Elementos de la lista**\n",
        "\n",
        "Los elementos de la lista están ordenados, son modificables y permiten valores duplicados. Los elementos de la lista están indexados, el primer elemento tiene índice $[0]$, el segundo elemento tiene índice $[1]$, etc.\n",
        "\n",
        "**Ordenado**\n",
        "\n",
        "Cuando decimos que las listas están ordenadas, significa que los elementos tienen un orden definido, y ese orden no cambiará. Si añades nuevos elementos a una lista, los nuevos elementos se colocarán al final de la lista.\n",
        "Nota: Hay algunos métodos de lista que cambiarán el orden, pero en general: el orden de los elementos no cambiará.\n",
        "\n",
        "**Modificable**\n",
        "\n",
        "La lista es modificable, lo que significa que podemos cambiar, añadir y eliminar elementos en una lista después de haberla creado.\n",
        "\n",
        "**Permitir duplicados**\n",
        "\n",
        "Como las listas están indexadas, las listas pueden tener elementos con el mismo valor:\n",
        "\n",
        "Ejemplo:\n",
        "\n",
        "Las listas permiten valores duplicados:\n"
      ],
      "metadata": {
        "id": "wBV0SEg_fYG_"
      }
    },
    {
      "cell_type": "code",
      "source": [
        "mylist = [\"manzana\", \"plátano\", \"cereza\", \"manzana\", \"cereza\"]\n",
        "print(mylist)"
      ],
      "metadata": {
        "id": "NQyV2sjhf8MZ"
      },
      "execution_count": null,
      "outputs": []
    },
    {
      "cell_type": "markdown",
      "source": [
        "## **Longitud de la lista**\n",
        "\n",
        "Para determinar cuántos elementos tiene una lista, utilice la función len():\n",
        "\n",
        "Ejemplo\n"
      ],
      "metadata": {
        "id": "sxoP5gdjhWp1"
      }
    },
    {
      "cell_type": "code",
      "source": [
        "# Imprime el número de elementos de la lista:\n",
        "mylist = [\"manzana\", \"plátano\", \"cereza\"]\n",
        "print(len(mylist))\n"
      ],
      "metadata": {
        "colab": {
          "base_uri": "https://localhost:8080/"
        },
        "id": "U_3fK9HHhV17",
        "outputId": "7a0a1856-543d-405e-efa7-1ee2b2a91b30"
      },
      "execution_count": 2,
      "outputs": [
        {
          "output_type": "stream",
          "name": "stdout",
          "text": [
            "3\n"
          ]
        }
      ]
    },
    {
      "cell_type": "markdown",
      "source": [
        "## **Elementos de la lista - Tipos de datos**\n",
        "\n",
        "Los elementos de la lista pueden ser de cualquier tipo de datos:\n",
        "\n",
        "Ejemplo:"
      ],
      "metadata": {
        "id": "UJxbUpRDhs1O"
      }
    },
    {
      "cell_type": "code",
      "source": [
        "# Tipos de datos string, int y boolean:\n",
        "list1 = [\"manzana\", \"plátano\", \"cereza\"]\n",
        "list2 = [1, 5, 7, 9, 3]\n",
        "list3 = [True, False, False]"
      ],
      "metadata": {
        "id": "ZwaF2uVGh4qK"
      },
      "execution_count": 3,
      "outputs": []
    },
    {
      "cell_type": "markdown",
      "source": [
        "## **type()**\n",
        "\n",
        "Desde la perspectiva de Python, las listas se definen como objetos con el tipo de datos 'list':"
      ],
      "metadata": {
        "id": "EMnhnVcFiEuu"
      }
    },
    {
      "cell_type": "code",
      "source": [
        "mylist = [\"apple\", \"banana\", \"cherry\"]\n",
        "print(type(mylist))"
      ],
      "metadata": {
        "colab": {
          "base_uri": "https://localhost:8080/"
        },
        "id": "lJC6NgkHh_Kb",
        "outputId": "339e9f5b-5a80-4088-943c-3445fb519eca"
      },
      "execution_count": 4,
      "outputs": [
        {
          "output_type": "stream",
          "name": "stdout",
          "text": [
            "<class 'list'>\n"
          ]
        }
      ]
    },
    {
      "cell_type": "markdown",
      "source": [
        "# **El constructor list()**\n",
        "\n",
        "También es posible utilizar el constructor list() al crear una nueva lista."
      ],
      "metadata": {
        "id": "z3-uvaofiTEo"
      }
    },
    {
      "cell_type": "code",
      "source": [
        "mylist = list((\"apple\", \"banana\", \"cherry\"))\n",
        "mylist"
      ],
      "metadata": {
        "colab": {
          "base_uri": "https://localhost:8080/"
        },
        "id": "akd5aURZifcK",
        "outputId": "94042fa9-a73f-4806-ee01-13ecb11180f8"
      },
      "execution_count": 5,
      "outputs": [
        {
          "output_type": "execute_result",
          "data": {
            "text/plain": [
              "['apple', 'banana', 'cherry']"
            ]
          },
          "metadata": {},
          "execution_count": 5
        }
      ]
    },
    {
      "cell_type": "code",
      "source": [
        ""
      ],
      "metadata": {
        "id": "Q9PwDoDYilgT"
      },
      "execution_count": null,
      "outputs": []
    }
  ]
}
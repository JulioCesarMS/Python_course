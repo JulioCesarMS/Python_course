{
  "nbformat": 4,
  "nbformat_minor": 0,
  "metadata": {
    "colab": {
      "name": "Introducción.ipynb",
      "provenance": [],
      "authorship_tag": "ABX9TyMMZWxESAu79mU0jVw601iu",
      "include_colab_link": true
    },
    "kernelspec": {
      "name": "python3",
      "display_name": "Python 3"
    },
    "language_info": {
      "name": "python"
    }
  },
  "cells": [
    {
      "cell_type": "markdown",
      "metadata": {
        "id": "view-in-github",
        "colab_type": "text"
      },
      "source": [
        "<a href=\"https://colab.research.google.com/github/JulioCesarMS/Python_course/blob/main/Introducci%C3%B3n.ipynb\" target=\"_parent\"><img src=\"https://colab.research.google.com/assets/colab-badge.svg\" alt=\"Open In Colab\"/></a>"
      ]
    },
    {
      "cell_type": "markdown",
      "source": [
        "# Introducción"
      ],
      "metadata": {
        "id": "7_-E1gKNbG_T"
      }
    },
    {
      "cell_type": "markdown",
      "source": [
        "## Variables en python\n",
        "\n",
        "Las variables son contenedores para almacenar valores de datos.\n",
        "\n",
        "**Creación de variables**\n",
        "\n",
        "- Python no tiene ningún comando para declarar una variable.\n",
        "- Una variable se crea en el momento en que se le asigna un valor por primera vez."
      ],
      "metadata": {
        "id": "AYCiVeirbPTR"
      }
    },
    {
      "cell_type": "code",
      "source": [
        "x = 5\n",
        "print(x)"
      ],
      "metadata": {
        "colab": {
          "base_uri": "https://localhost:8080/"
        },
        "id": "_8q4mrWFbMss",
        "outputId": "48fbda35-6b25-42ce-d5e2-a584c9c3aa94"
      },
      "execution_count": null,
      "outputs": [
        {
          "output_type": "stream",
          "name": "stdout",
          "text": [
            "5\n"
          ]
        }
      ]
    },
    {
      "cell_type": "code",
      "source": [
        "y = \"Juan\"\n",
        "print(y)"
      ],
      "metadata": {
        "colab": {
          "base_uri": "https://localhost:8080/"
        },
        "id": "ZKZ2KsWJcDRn",
        "outputId": "0b547e3d-0980-492b-ac44-01ddcdc3bf68"
      },
      "execution_count": null,
      "outputs": [
        {
          "output_type": "stream",
          "name": "stdout",
          "text": [
            "Juan\n"
          ]
        }
      ]
    },
    {
      "cell_type": "markdown",
      "source": [
        "**Casting**\n",
        "\n",
        "Si se quiere especificar el tipo de datos de una variable, se puede hacer con\n",
        "casting."
      ],
      "metadata": {
        "id": "GvwIQCNPcXRu"
      }
    },
    {
      "cell_type": "code",
      "source": [
        "# x será '3'\n",
        "x = str(3)\n",
        "print(x)"
      ],
      "metadata": {
        "colab": {
          "base_uri": "https://localhost:8080/"
        },
        "id": "WWrnHlfrcHVZ",
        "outputId": "0f5cc02b-dcc4-44a7-fde5-fa2fb9511d5b"
      },
      "execution_count": null,
      "outputs": [
        {
          "output_type": "stream",
          "name": "stdout",
          "text": [
            "3\n"
          ]
        }
      ]
    },
    {
      "cell_type": "code",
      "source": [
        "# x será 3\n",
        "y = int(3)\n",
        "print(y)"
      ],
      "metadata": {
        "colab": {
          "base_uri": "https://localhost:8080/"
        },
        "id": "GG7oaivncjJo",
        "outputId": "6649cfce-e9f5-4d3d-d4e0-7c8259970ddc"
      },
      "execution_count": null,
      "outputs": [
        {
          "output_type": "stream",
          "name": "stdout",
          "text": [
            "3\n"
          ]
        }
      ]
    },
    {
      "cell_type": "code",
      "source": [
        "# x será 3.0\n",
        "z = float(3)\n",
        "print(z)"
      ],
      "metadata": {
        "colab": {
          "base_uri": "https://localhost:8080/"
        },
        "id": "rsc3qyX7coPc",
        "outputId": "311a241c-56e3-43bf-9835-89164f9e07ac"
      },
      "execution_count": null,
      "outputs": [
        {
          "output_type": "stream",
          "name": "stdout",
          "text": [
            "3.0\n"
          ]
        }
      ]
    },
    {
      "cell_type": "markdown",
      "source": [
        "**Obtener el tipo**\n",
        "\n",
        "Puedes obtener el tipo de datos de una variable con la función type()."
      ],
      "metadata": {
        "id": "k_Ka7ux_cyES"
      }
    },
    {
      "cell_type": "code",
      "source": [
        "x = 5\n",
        "print(type(5))"
      ],
      "metadata": {
        "colab": {
          "base_uri": "https://localhost:8080/"
        },
        "id": "dPwRV1IRctfO",
        "outputId": "513456f1-f4f4-455b-cc3b-9720648a54e5"
      },
      "execution_count": null,
      "outputs": [
        {
          "output_type": "stream",
          "name": "stdout",
          "text": [
            "<class 'int'>\n"
          ]
        }
      ]
    },
    {
      "cell_type": "code",
      "source": [
        "y = 'Juan'\n",
        "print(type(y))"
      ],
      "metadata": {
        "colab": {
          "base_uri": "https://localhost:8080/"
        },
        "id": "98AdnXQXdBC1",
        "outputId": "81049213-4709-40df-9e9f-bb4233477f2a"
      },
      "execution_count": null,
      "outputs": [
        {
          "output_type": "stream",
          "name": "stdout",
          "text": [
            "<class 'str'>\n"
          ]
        }
      ]
    },
    {
      "cell_type": "code",
      "source": [
        "z <- 3.0\n",
        "print(type(z))"
      ],
      "metadata": {
        "colab": {
          "base_uri": "https://localhost:8080/"
        },
        "id": "zP8oPkJxdH3R",
        "outputId": "d017a6ed-621e-470c-aaad-44d9fb49ec5a"
      },
      "execution_count": null,
      "outputs": [
        {
          "output_type": "stream",
          "name": "stdout",
          "text": [
            "<class 'float'>\n"
          ]
        }
      ]
    },
    {
      "cell_type": "markdown",
      "source": [
        "**¿Comillas simples o dobles?**\n",
        "\n",
        "Las variables de cadena pueden declararse utilizando comillas simples o dobles:"
      ],
      "metadata": {
        "id": "INbOsjv9dWPK"
      }
    },
    {
      "cell_type": "code",
      "source": [
        "x = \"Juan\"\n",
        "print(x)\n"
      ],
      "metadata": {
        "colab": {
          "base_uri": "https://localhost:8080/"
        },
        "id": "79h8riFXdL5p",
        "outputId": "48c43d19-0eea-4623-f674-e9d35b21d111"
      },
      "execution_count": null,
      "outputs": [
        {
          "output_type": "stream",
          "name": "stdout",
          "text": [
            "Juan\n"
          ]
        }
      ]
    },
    {
      "cell_type": "code",
      "source": [
        "y = 'Juan'\n",
        "print(y)"
      ],
      "metadata": {
        "colab": {
          "base_uri": "https://localhost:8080/"
        },
        "id": "6zNQe6cedghN",
        "outputId": "f20f9547-463d-4884-ad6e-b6bf0f3b3523"
      },
      "execution_count": null,
      "outputs": [
        {
          "output_type": "stream",
          "name": "stdout",
          "text": [
            "Juan\n"
          ]
        }
      ]
    },
    {
      "cell_type": "markdown",
      "source": [
        "**Sensible a las mayúsculas y minúsculas**\n",
        "\n",
        "Los nombres de las variables distinguen entre mayúsculas y minúsculas."
      ],
      "metadata": {
        "id": "GEt5OMoudpbZ"
      }
    },
    {
      "cell_type": "code",
      "source": [
        "# observamos que no se sobreescribe a\n",
        "a = 4\n",
        "A = \"Sally\"\n",
        "print(A)"
      ],
      "metadata": {
        "colab": {
          "base_uri": "https://localhost:8080/"
        },
        "id": "mG2Kn9Lzdxd2",
        "outputId": "96f8b3a2-e1cc-4db8-8629-928bf0405299"
      },
      "execution_count": null,
      "outputs": [
        {
          "output_type": "stream",
          "name": "stdout",
          "text": [
            "Sally\n"
          ]
        }
      ]
    },
    {
      "cell_type": "markdown",
      "source": [
        "**Nombres de variables**\n",
        "\n",
        "Una variable puede tener un nombre corto (como x e y) o un nombre más descriptivo (edad, nombre del coche, volumen_total). Reglas para las variables de Python:\n",
        "* Un nombre de variable debe comenzar con una letra o el carácter de subrayado\n",
        "* Un nombre de variable no puede empezar por un número\n",
        "* Un nombre de variable sólo puede contener caracteres alfanuméricos y\n",
        "guiones bajos (A-z, 0-9 y _ )\n",
        "* Los nombres de las variables distinguen entre mayúsculas y minúsculas (edad, Edad, y EDAD son tres variables diferentes)\n"
      ],
      "metadata": {
        "id": "gRPJORwueHgq"
      }
    },
    {
      "cell_type": "code",
      "source": [
        "# variables permitidas\n",
        "myvar = \"Juan\"\n",
        "my_var = \"Juan\"\n",
        "_my_var = \"Juan\"\n",
        "myVar = \"Juan\"\n",
        "MYVAR = \"Juan\"\n",
        "myvar2 = \"Juan\""
      ],
      "metadata": {
        "id": "QvPhwwUNeWwm"
      },
      "execution_count": null,
      "outputs": []
    },
    {
      "cell_type": "markdown",
      "source": [
        "**Nombres de variables con varias palabras**\n",
        "\n",
        "Los nombres de variables con más de una palabra pueden ser difíciles de leer.\n",
        "Hay varias técnicas que puedes utilizar para hacerlos más legibles:\n",
        "\n",
        "\n",
        "- **Camel case**\n",
        "\n",
        "Cada palabra, excepto la primera, comienza con una letra mayúscula:\n",
        "\n",
        "**myVariableName = \"Juan\"**\n",
        "\n",
        "- **Pascal case**\n",
        "\n",
        "Cada palabra comienza con una letra mayúscula:\n",
        "\n",
        "**MyVariableName = \"Juan\"**\n",
        "\n",
        "- **Snake case**\n",
        "\n",
        "Cada palabra está separada por un carácter de subrayado:\n",
        "\n",
        "**mi_variable_name = \"Juan\"**"
      ],
      "metadata": {
        "id": "GjkHLJGXfFKH"
      }
    },
    {
      "cell_type": "markdown",
      "source": [
        "# Asignación de multiples valores a múltiples variables"
      ],
      "metadata": {
        "id": "zMi5syKltLFY"
      }
    },
    {
      "cell_type": "code",
      "source": [
        "x, y, z = \"Manzana\", \"Naranja\", \"Mango\""
      ],
      "metadata": {
        "id": "haa_ZVUBe8_y"
      },
      "execution_count": null,
      "outputs": []
    },
    {
      "cell_type": "code",
      "source": [
        "print(x)\n",
        "print(y)\n",
        "print(z)"
      ],
      "metadata": {
        "colab": {
          "base_uri": "https://localhost:8080/"
        },
        "id": "VPR54oiuthzt",
        "outputId": "32bea822-b522-4724-b74a-135e890f8e52"
      },
      "execution_count": null,
      "outputs": [
        {
          "output_type": "stream",
          "name": "stdout",
          "text": [
            "Manzana\n",
            "Naranja\n",
            "Mango\n"
          ]
        }
      ]
    },
    {
      "cell_type": "markdown",
      "source": [
        "## Asignación de un valor a múltiples variables"
      ],
      "metadata": {
        "id": "6xLSvJr8tqAR"
      }
    },
    {
      "cell_type": "code",
      "source": [
        "x=y=z=\"Manzana\""
      ],
      "metadata": {
        "id": "xTv4XgxBtu_z"
      },
      "execution_count": null,
      "outputs": []
    },
    {
      "cell_type": "code",
      "source": [
        "print(x)\n",
        "print(y)\n",
        "print(z)"
      ],
      "metadata": {
        "colab": {
          "base_uri": "https://localhost:8080/"
        },
        "id": "ZmjuJKDQtzTI",
        "outputId": "b995b93e-d4aa-4fc4-e8e8-62bed8032928"
      },
      "execution_count": null,
      "outputs": [
        {
          "output_type": "stream",
          "name": "stdout",
          "text": [
            "Manzana\n",
            "Manzana\n",
            "Manzana\n"
          ]
        }
      ]
    },
    {
      "cell_type": "markdown",
      "source": [
        "# **Operadores en python**"
      ],
      "metadata": {
        "id": "OnXZw31Gt9-i"
      }
    },
    {
      "cell_type": "markdown",
      "source": [
        "Python divide los operadores en los siguientes grupos:\n",
        "\n",
        "- Operadores aritméticos\n",
        "- Operadores de asignación\n",
        "- Operadores de comparación\n",
        "- Operadores lógicos\n",
        "- Operadores de identidad\n",
        "- Operadores de pertenencia\n",
        "- Operadores a nivel de bits"
      ],
      "metadata": {
        "id": "PHr1bqHyuPbX"
      }
    },
    {
      "cell_type": "markdown",
      "source": [
        "## Operadores aritméticos"
      ],
      "metadata": {
        "id": "psEYfaG-ugiH"
      }
    },
    {
      "cell_type": "markdown",
      "source": [
        "Los operadores aritméticos se utilizan con valores numéricos para realizar operaciones matemáticas comunes:\n",
        "\n",
        "Operador  | Nombre          | Ejemplo\n",
        "      --- |  ---            | ---\n",
        "+         | Adición         | x + y\n",
        "-         | Sustracción     | x - y\n",
        "*         | Multiplicación  | x * y\n",
        "/         | Division        | x / y\n",
        "%         | Módulo          | x % y\n",
        "**        | Exponente       | x \\** y\n",
        "//        | División entero | x // y \n",
        "\n",
        "\n"
      ],
      "metadata": {
        "id": "p096ZWDXui3i"
      }
    },
    {
      "cell_type": "markdown",
      "source": [
        "## Operadores de asignación\n",
        "\n"
      ],
      "metadata": {
        "id": "2TQrjNkdxqZr"
      }
    },
    {
      "cell_type": "markdown",
      "source": [
        "Los operadores de asignación se utilizan para asignar valores a las variables:\n",
        "\n",
        "Operador  | Ejemplo          | Lo mismo que\n",
        "      --- |  ---             | ---\n",
        "  =       | x = 5            | x = 5\n",
        "+=        | x += 3           | x = x + 3\n",
        "-=        | x -= 3           | x = x - 3\n",
        "*=        | x *= 3           | x = x * 3\n",
        "/=        | x /= 3           | x = x / 3\n",
        "%=        | x %= 3           | x = x % 3\n",
        "//=       | x //= 3          | x = x // 3\n",
        "**=       | x **= 3          | x = x ** 3\n",
        "&=        | x &= 3           | x = x & 3\n",
        "\\|=       | x \\|= 3          | x = x \\| 3\n",
        "^=        | x ^= 3           | x = x ^ 3\n",
        ">>=       | x >>= 3          | x = x >> 3\n",
        "<<=       | x <<= 3          | x = x << 3"
      ],
      "metadata": {
        "id": "722G4faxyOY7"
      }
    },
    {
      "cell_type": "markdown",
      "source": [
        "## Operadores de Identidad\n",
        "\n",
        "Los operadores de identidad se utilizan para comparar los objetos, no si son iguales, sino si son realmente el mismo objeto, con la misma ubicación de memoria:\n",
        "\n",
        "Operador  | Nombre                                                    | Ejemplo\n",
        "      --- |  ---                                                      | ---\n",
        "  is      | Devuelve True si ambas variables son el mismo objeto      | x is y\n",
        "  is not  | Devuelve False si ambas variables no son el mismo objeto  | x is not y"
      ],
      "metadata": {
        "id": "BxYi40xe1vzO"
      }
    },
    {
      "cell_type": "markdown",
      "source": [
        "## Operadores de pertenencia\n",
        "\n",
        "Los operadores de pertenencia se utilizan para comprobar si una secuencia se presenta en un objeto:\n",
        "\n",
        "Operador  | Nombre                                                    | Ejemplo\n",
        "      --- |  ---                                                      | ---\n",
        "   in     | Devuelve True si una secuencia con el valor especificado está presente en el objeto  |  x in y\n",
        "   not in | Devuelve False si una secuencia con el valor especificado no está presente en el objeto  |  x not in y\n"
      ],
      "metadata": {
        "id": "6rzH0i132fi4"
      }
    },
    {
      "cell_type": "markdown",
      "source": [
        "## Operadores de comparación\n",
        "\n",
        "Los operadores de comparación se utilizan para comparar dos valores:\n",
        "\n",
        "Operador  | Nombre                                                    | Ejemplo\n",
        "      --- |  ---                                                      | ---\n",
        "==        | Igual                                                     | x == y\n",
        "!=        | No es igual                                               | x != y\n",
        ">         | Mayor que                                                 | x > y\n",
        "<         | Menor que                                                 | x < y\n",
        ">=        | Mayor o igual que                                         | x >= y\n",
        "<=        | Menor o igual que                                         | x <= y\n",
        "\n"
      ],
      "metadata": {
        "id": "hMhbyv8_3vVM"
      }
    },
    {
      "cell_type": "markdown",
      "source": [
        "## Operadores lógicos\n",
        "\n",
        "Los operadores lógicos se utilizan para combinar sentencias condicionales:\n",
        "\n",
        "Operador  | Nombre                                                    | Ejemplo\n",
        "      --- |  ---                                                      | ---\n",
        "and       | Devuelve True si ambas expresiones son verdaderas        | x < 5 and x < 10\n",
        "or        | Devuelve True si una de ambas expresiones es verdaderas  | x < 5 or x < 4\n",
        "not       | Invierte el resultado, devuelve Falso si el resultado es verdadero | not(x < 5 and x < 10)"
      ],
      "metadata": {
        "id": "DzPIPeEw52K-"
      }
    },
    {
      "cell_type": "markdown",
      "source": [
        "## Operadores de bit a bit\n",
        "\n",
        "Los operadores bit a bit se utilizan para comparar números (binarios):\n",
        "\n",
        "  Operador  | Nombre                                              | Ejemplo\n",
        "      --- |  ---                                                  | ---\n",
        "&         |  AND                                                  | Establece cada bit a 1 si ambos bits son 1\n",
        " | OR                                                    | Establece cada bit a 1 si uno de ambos bits es 1\n",
        "^         | XOR                                                   | Establece cada bit a 1 si solo uno de ambos bits es 1\n",
        "~         | NOT                                                   | Invierte todos los bits\n",
        "<<        | Cero relleno a la izquierda                           | Desplazamiento a la izquierda empujando ceros desde la derecha y dejando caer los bits más a la izquierda de\n",
        ">>        | Cambio de signo a la derecha                          |  Desplazar a la derecha empujando copias del bit más a la izquierda desde la izquierda, y dejar los bits más a la derecha"
      ],
      "metadata": {
        "id": "AJhEJbN57S_f"
      }
    },
    {
      "cell_type": "markdown",
      "source": [
        "## Tipos de datos \n",
        "\n",
        "Las variables pueden almacenar datos de diferentes tipos, y diferentes tipos pueden hacer diferentes cosas.\n",
        "Python tiene los siguientes tipos de datos incorporados por defecto, en estas categorías:\n",
        "\n",
        " Descripción  | Tipo  |                                           \n",
        "      ---     |  ---    |                                              \n",
        "Tipo texto    | str   |\n",
        "Tipo numérico | int, float, complex|\n",
        "Tipo secuencia| list, tuple, range |\n",
        "Tipo mapeo    | dict\n",
        "Tipo conjunto | set, frozenset\n",
        "Tipo booleano | bool\n",
        "Binary types  | bytes, bytearray, memoryview\n",
        "\n",
        "\n",
        "\n",
        "You can get the data type of any object by using the type() function:"
      ],
      "metadata": {
        "id": "cQeT9qwH5Ypz"
      }
    },
    {
      "cell_type": "code",
      "source": [
        "# Ejemplo\n",
        "x = 5\n",
        "print(type(x))"
      ],
      "metadata": {
        "id": "ne_gE9tAt2p9",
        "colab": {
          "base_uri": "https://localhost:8080/"
        },
        "outputId": "cc9b6a37-88b1-4a85-f233-0c0828fd55d9"
      },
      "execution_count": 1,
      "outputs": [
        {
          "output_type": "stream",
          "name": "stdout",
          "text": [
            "<class 'int'>\n"
          ]
        }
      ]
    },
    {
      "cell_type": "markdown",
      "source": [
        "En Python, el tipo de datos se establece cuando se asigna un valor a una variable:\n",
        "\n",
        "Ejemplo                     |                 Tipo                                               \n",
        "      ---                  |  ---    | \n",
        "x = \"Hello World\"          | str     |\n",
        "x = 20                            | int\n",
        "x = 20.5                          | float\n",
        "x = 1j                            | complex\n",
        "x = [\"apple\", \"banana\", \"cherry\"] | list\n",
        "x = (\"apple\", \"banana\", \"cherry\") | tuple\n",
        "x = range(6)                      | range\n",
        "x = {\"name\" : \"John\", \"age\" : 36} | dict\n",
        "x = {\"apple\", \"banana\", \"cherry\"} | set\n",
        "x = frozenset({\"apple\", \"banana\", \"cherry\"}) | frozenset\n",
        "x = True                                     | bool\n",
        "x = b\"Hello\"                                 | bytes\n",
        "x = bytearray(5)                             | bytearray\n",
        "x = memoryview(bytes(5))                     | memoryview"
      ],
      "metadata": {
        "id": "4GqR5BT66uY6"
      }
    },
    {
      "cell_type": "code",
      "source": [
        "# Ejemplos\n",
        "x = 1 # int\n",
        "y = 2.8 # float\n",
        "z = 1j # complex"
      ],
      "metadata": {
        "id": "awGMdn7p6qAS"
      },
      "execution_count": 2,
      "outputs": []
    },
    {
      "cell_type": "code",
      "source": [
        "print(type(x))\n",
        "print(type(y))\n",
        "print(type(z))"
      ],
      "metadata": {
        "colab": {
          "base_uri": "https://localhost:8080/"
        },
        "id": "-6iUzJOq8f4Z",
        "outputId": "27daac10-4732-4864-8e3a-325fd52c8d19"
      },
      "execution_count": 3,
      "outputs": [
        {
          "output_type": "stream",
          "name": "stdout",
          "text": [
            "<class 'int'>\n",
            "<class 'float'>\n",
            "<class 'complex'>\n"
          ]
        }
      ]
    },
    {
      "cell_type": "markdown",
      "source": [
        "**Int**\n",
        "\n",
        "Int, es un número entero, positivo o negativo, sin decimales, de\n",
        "longitud ilimitada."
      ],
      "metadata": {
        "id": "SAYT6MgB819y"
      }
    },
    {
      "cell_type": "code",
      "source": [
        "# ejemplos\n",
        "x = 1\n",
        "y = 35656222554887711\n",
        "z = -3255522"
      ],
      "metadata": {
        "id": "1ZshV0Fw8iIb"
      },
      "execution_count": 4,
      "outputs": []
    },
    {
      "cell_type": "code",
      "source": [
        "print(type(x))\n",
        "print(type(y))\n",
        "print(type(z))"
      ],
      "metadata": {
        "colab": {
          "base_uri": "https://localhost:8080/"
        },
        "id": "9sLsw3hj8oyj",
        "outputId": "6964af9e-8691-4f7e-dcc4-80e802b8c5f2"
      },
      "execution_count": 5,
      "outputs": [
        {
          "output_type": "stream",
          "name": "stdout",
          "text": [
            "<class 'int'>\n",
            "<class 'int'>\n",
            "<class 'int'>\n"
          ]
        }
      ]
    },
    {
      "cell_type": "markdown",
      "source": [
        "**Float**\n",
        "\n",
        "Número de punto flotante es un número, positivo o negativo que contiene uno o más decimales."
      ],
      "metadata": {
        "id": "POp7woq19JsO"
      }
    },
    {
      "cell_type": "code",
      "source": [
        "x = 1.10\n",
        "y = 1.0\n",
        "z = -35.59"
      ],
      "metadata": {
        "id": "DpD1_H0X8rb5"
      },
      "execution_count": 6,
      "outputs": []
    },
    {
      "cell_type": "code",
      "source": [
        "print(type(x))\n",
        "print(type(y))\n",
        "print(type(z))"
      ],
      "metadata": {
        "colab": {
          "base_uri": "https://localhost:8080/"
        },
        "id": "C-Sdp4Je9VJu",
        "outputId": "5366936a-4fc8-4392-def1-f7cfcf8f247e"
      },
      "execution_count": 7,
      "outputs": [
        {
          "output_type": "stream",
          "name": "stdout",
          "text": [
            "<class 'float'>\n",
            "<class 'float'>\n",
            "<class 'float'>\n"
          ]
        }
      ]
    },
    {
      "cell_type": "markdown",
      "source": [
        "**Complejos**\n",
        "\n",
        "Los números complejos se escriben con una \"j\" como parte imaginaria:"
      ],
      "metadata": {
        "id": "h894d-h09gz9"
      }
    },
    {
      "cell_type": "code",
      "source": [
        "x = 3+5j\n",
        "y = 5j\n",
        "z = -5j"
      ],
      "metadata": {
        "id": "LLCKB9mD9Xyi"
      },
      "execution_count": 8,
      "outputs": []
    },
    {
      "cell_type": "code",
      "source": [
        "print(type(x))\n",
        "print(type(y))\n",
        "print(type(z))"
      ],
      "metadata": {
        "colab": {
          "base_uri": "https://localhost:8080/"
        },
        "id": "1mDxCrwz9n8a",
        "outputId": "2357cf5f-3ac9-4a5a-ac48-9299b8a5cbeb"
      },
      "execution_count": 9,
      "outputs": [
        {
          "output_type": "stream",
          "name": "stdout",
          "text": [
            "<class 'complex'>\n",
            "<class 'complex'>\n",
            "<class 'complex'>\n"
          ]
        }
      ]
    },
    {
      "cell_type": "markdown",
      "source": [
        "**Conversión**\n",
        "\n",
        "Se puede convertir de un tipo a otro con los métodos int(), float() y\n",
        "complex():"
      ],
      "metadata": {
        "id": "x1CnTg7p9vJY"
      }
    },
    {
      "cell_type": "code",
      "source": [
        "x = 1 # int\n",
        "y = 2.8 # float\n",
        "z = 1j # complex"
      ],
      "metadata": {
        "id": "9xIv0OpZ9rWB"
      },
      "execution_count": 10,
      "outputs": []
    },
    {
      "cell_type": "code",
      "source": [
        "# Convierte a flotante \n",
        "a = float(x)\n",
        "# Convierte a entero\n",
        "b = int(y)\n",
        "# Convierte a complejo\n",
        "c = complex(x)"
      ],
      "metadata": {
        "id": "gac11Zet9-gD"
      },
      "execution_count": 11,
      "outputs": []
    },
    {
      "cell_type": "code",
      "source": [
        "print(type(a))\n",
        "print(type(b))\n",
        "print(type(c))"
      ],
      "metadata": {
        "colab": {
          "base_uri": "https://localhost:8080/"
        },
        "id": "mET7SMAK-KQ5",
        "outputId": "38c8f94b-b045-4c35-f7f5-2f73427dbe6c"
      },
      "execution_count": 12,
      "outputs": [
        {
          "output_type": "stream",
          "name": "stdout",
          "text": [
            "<class 'float'>\n",
            "<class 'int'>\n",
            "<class 'complex'>\n"
          ]
        }
      ]
    },
    {
      "cell_type": "markdown",
      "source": [
        "**Strings**\n",
        "\n",
        "Las cadenas en python se rodean de comillas simples o dobles comillas.\n",
        "\n",
        "'hello' es lo mismo que \"hello\".\n",
        "\n",
        "Puedes mostrar un literal de cadena con la función print():"
      ],
      "metadata": {
        "id": "-mv4n2Ox-PY6"
      }
    },
    {
      "cell_type": "code",
      "source": [
        "print(\"Hello\")\n",
        "print('Hello')"
      ],
      "metadata": {
        "colab": {
          "base_uri": "https://localhost:8080/"
        },
        "id": "qNZbIH3w-NHV",
        "outputId": "af73432b-5eb8-4ed4-e73a-96af5b277b8b"
      },
      "execution_count": 13,
      "outputs": [
        {
          "output_type": "stream",
          "name": "stdout",
          "text": [
            "Hello\n",
            "Hello\n"
          ]
        }
      ]
    },
    {
      "cell_type": "code",
      "source": [
        ""
      ],
      "metadata": {
        "id": "fW2ELTVM-jgT"
      },
      "execution_count": null,
      "outputs": []
    }
  ]
}
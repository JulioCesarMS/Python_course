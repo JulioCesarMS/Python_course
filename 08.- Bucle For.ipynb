{
  "nbformat": 4,
  "nbformat_minor": 0,
  "metadata": {
    "colab": {
      "name": "8.- Bucle For.ipynb",
      "provenance": [],
      "authorship_tag": "ABX9TyMmAxdEe0a4U6BS1H4eVzzw",
      "include_colab_link": true
    },
    "kernelspec": {
      "name": "python3",
      "display_name": "Python 3"
    },
    "language_info": {
      "name": "python"
    }
  },
  "cells": [
    {
      "cell_type": "markdown",
      "metadata": {
        "id": "view-in-github",
        "colab_type": "text"
      },
      "source": [
        "<a href=\"https://colab.research.google.com/github/JulioCesarMS/Python_course/blob/main/08.-%20Bucle%20For.ipynb\" target=\"_parent\"><img src=\"https://colab.research.google.com/assets/colab-badge.svg\" alt=\"Open In Colab\"/></a>"
      ]
    },
    {
      "cell_type": "markdown",
      "source": [
        "# **Bucle For**"
      ],
      "metadata": {
        "id": "8al34HVKDKuI"
      }
    },
    {
      "cell_type": "code",
      "source": [
        ""
      ],
      "metadata": {
        "id": "6hfdiUfoDOsP"
      },
      "execution_count": null,
      "outputs": []
    }
  ]
}